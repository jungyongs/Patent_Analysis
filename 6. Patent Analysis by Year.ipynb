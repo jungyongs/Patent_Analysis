{
 "cells": [
  {
   "cell_type": "code",
   "execution_count": 2,
   "id": "1aa9b3bc",
   "metadata": {},
   "outputs": [],
   "source": [
    "#라이브러리 불러오기\n",
    "import pandas as pd\n",
    "import numpy as np\n",
    "import seaborn as sns\n",
    "import matplotlib.pyplot as plt\n",
    "\n",
    "#한글 깨짐 처리\n",
    "plt.rc('font', family='Malgun Gothic') \n",
    "plt.rcParams['axes.unicode_minus'] = False"
   ]
  },
  {
   "cell_type": "code",
   "execution_count": 3,
   "id": "4a461709",
   "metadata": {},
   "outputs": [],
   "source": [
    "# 모델 불러오기\n",
    "model=LdaSeqModel.load(\"DTM_8.model\")"
   ]
  },
  {
   "cell_type": "code",
   "execution_count": 4,
   "id": "6c24dbfa",
   "metadata": {
    "scrolled": true
   },
   "outputs": [
    {
     "data": {
      "text/html": [
       "<div>\n",
       "<style scoped>\n",
       "    .dataframe tbody tr th:only-of-type {\n",
       "        vertical-align: middle;\n",
       "    }\n",
       "\n",
       "    .dataframe tbody tr th {\n",
       "        vertical-align: top;\n",
       "    }\n",
       "\n",
       "    .dataframe thead th {\n",
       "        text-align: right;\n",
       "    }\n",
       "</style>\n",
       "<table border=\"1\" class=\"dataframe\">\n",
       "  <thead>\n",
       "    <tr style=\"text-align: right;\">\n",
       "      <th></th>\n",
       "      <th>출원번호</th>\n",
       "      <th>출원일자</th>\n",
       "      <th>발명의 명칭</th>\n",
       "      <th>출원인</th>\n",
       "      <th>요약</th>\n",
       "      <th>year</th>\n",
       "      <th>nouns</th>\n",
       "    </tr>\n",
       "  </thead>\n",
       "  <tbody>\n",
       "    <tr>\n",
       "      <th>0</th>\n",
       "      <td>10-2015-0062820</td>\n",
       "      <td>2015.05.05</td>\n",
       "      <td>압력가압수단에 의해 원터치 방식으로 망체를 창틀프레임에 고정시키는 방법 및 이를 이...</td>\n",
       "      <td>주식회사 에스지텍(대전광역시 중구...)</td>\n",
       "      <td>본 발명은 압력가압수단에 의해 편리하게 망체가 결합되는 방범창 및 이를 이용한 망체...</td>\n",
       "      <td>2015</td>\n",
       "      <td>['압력', '가압', '수단', '편리', '망체', '결합', '방범', '창'...</td>\n",
       "    </tr>\n",
       "    <tr>\n",
       "      <th>1</th>\n",
       "      <td>10-2015-0045530</td>\n",
       "      <td>2015.03.31</td>\n",
       "      <td>터널 화재진압용 차폐장치(ENCLOSURE APPARATUS FOR FIRE SUP...</td>\n",
       "      <td>창전이앤시 주식회사(경기도 용인시 수지구...)</td>\n",
       "      <td>본 발명은, 터널의 환기작동을 행할 수 있어 터널의 유지관리를 효과적으로 행할 수 ...</td>\n",
       "      <td>2015</td>\n",
       "      <td>['터널', '환기', '작동', '터널', '유지', '관리', '효과', '화재...</td>\n",
       "    </tr>\n",
       "    <tr>\n",
       "      <th>2</th>\n",
       "      <td>10-2015-0003420</td>\n",
       "      <td>2015.01.09</td>\n",
       "      <td>사다리형 부재 용접장치(Apparatus for Welding Ladder type...</td>\n",
       "      <td>(주)마스타에프에이(광주광역시 광산구...)</td>\n",
       "      <td>본 발명은 사다리형 부재 용접장치에 관한 것이다. 이를 위해, 본 발명은 장축부재와...</td>\n",
       "      <td>2015</td>\n",
       "      <td>['사다리', '용접', '장치', '장축', '단축', '사다리', '형태', '...</td>\n",
       "    </tr>\n",
       "    <tr>\n",
       "      <th>3</th>\n",
       "      <td>10-2014-7020640</td>\n",
       "      <td>2013.01.29</td>\n",
       "      <td>이동가능한 재배치층을 이용하여 재배치된 웨이퍼의 제조방법(METHOD FOR MAK...</td>\n",
       "      <td>엘3해리스 테크놀러지스, 인크.(미합중국 플로리다 ***** 멜보른 웨스트 나사 블...</td>\n",
       "      <td>본 발명은 복수의 전자 디바이스를 갖는 웨이퍼를 제공하는 단계를 포함하는 재배치된 ...</td>\n",
       "      <td>2015</td>\n",
       "      <td>['전자', '디바이스', '웨이퍼', '배치', '전자', '디바이스', '제조'...</td>\n",
       "    </tr>\n",
       "    <tr>\n",
       "      <th>4</th>\n",
       "      <td>10-2014-0180930</td>\n",
       "      <td>2014.12.16</td>\n",
       "      <td>도로 절단장치(Pavement cutting apparatus)</td>\n",
       "      <td>주식회사 한라기계상사(경기도 광주시...)</td>\n",
       "      <td>본 발명은 도로 절단장치에 관한 것으로, 특히 도로의 절단시 발생하는 분진의 비산을...</td>\n",
       "      <td>2015</td>\n",
       "      <td>['도로', '절단', '장치', '도로', '절단', '분진', '산', '방지'...</td>\n",
       "    </tr>\n",
       "    <tr>\n",
       "      <th>...</th>\n",
       "      <td>...</td>\n",
       "      <td>...</td>\n",
       "      <td>...</td>\n",
       "      <td>...</td>\n",
       "      <td>...</td>\n",
       "      <td>...</td>\n",
       "      <td>...</td>\n",
       "    </tr>\n",
       "    <tr>\n",
       "      <th>886173</th>\n",
       "      <td>10-2020-7021005</td>\n",
       "      <td>2018.02.13</td>\n",
       "      <td>성형면 패스너 및 성형면 패스너의 제조 방법(MOLDED HOOK-AND-LOOP ...</td>\n",
       "      <td>와이케이케이 가부시끼가이샤(일본 도꾜도 지요다꾸 간다 이즈미쪼 *반지)</td>\n",
       "      <td>본 발명의 성형면 패스너는, 기부(11, 81)와, 기부(11, 81)의 상면에 길...</td>\n",
       "      <td>2022</td>\n",
       "      <td>['성형', '면', '패스', '기부', '기부', '상면', '길', '방향',...</td>\n",
       "    </tr>\n",
       "    <tr>\n",
       "      <th>886174</th>\n",
       "      <td>10-2021-0174947</td>\n",
       "      <td>2021.12.08</td>\n",
       "      <td>방수 투습 기능성 앞치마(MOISTURE-PERMEABLE MOISTURE-PROO...</td>\n",
       "      <td>이성근(경기도 포천시...)</td>\n",
       "      <td>본 발명은 방수 투습 기능성 앞치마에 관한 것으로, 보다 상세하게는 상부 방향으로 ...</td>\n",
       "      <td>2022</td>\n",
       "      <td>['방수', '투습', '기능', '앞치마', '상부', '방향', '형성', '목...</td>\n",
       "    </tr>\n",
       "    <tr>\n",
       "      <th>886175</th>\n",
       "      <td>10-2020-7019455</td>\n",
       "      <td>2018.12.12</td>\n",
       "      <td>핸들 어셈블리 및 이를 포함하는 스테이플러(HANDLE ASSEMBLY AND ST...</td>\n",
       "      <td>터치스톤 인터내셔널 메디컬 사이언스 씨오., 엘티디.(중국 지앙수 ****** 쑤저...</td>\n",
       "      <td>본 발명은 핸들 어셈블리 및 이를 포함하는 스테이플러를 제공한다. 상기 핸들 어셈블...</td>\n",
       "      <td>2022</td>\n",
       "      <td>['핸들', '어셈블리', '스테이플러', '핸들', '어셈블리', '핸들', '핸...</td>\n",
       "    </tr>\n",
       "    <tr>\n",
       "      <th>886176</th>\n",
       "      <td>10-2021-0167127</td>\n",
       "      <td>2021.11.29</td>\n",
       "      <td>자동 채수기(Automatic water sampler)</td>\n",
       "      <td>이정원(경상남도 통영시...)|허세민(경상남도 김해시...)|윤준호(경상남도 창원시...</td>\n",
       "      <td>본 발명은 자동 채수기에 관한 것으로, 내부에 유체를 저장하는 유체 저장부가 형성되...</td>\n",
       "      <td>2022</td>\n",
       "      <td>['자동', '채수기', '내부', '유체', '저장', '유체', '장부', '형...</td>\n",
       "    </tr>\n",
       "    <tr>\n",
       "      <th>886177</th>\n",
       "      <td>10-2020-7018975</td>\n",
       "      <td>2019.08.09</td>\n",
       "      <td>실 링(SEAL RING)</td>\n",
       "      <td>엔오케이 가부시키가이샤(일본 도쿄도 미나도쿠 시바-다이몬 *-**-**)</td>\n",
       "      <td>접동부에 이물질이 스며들어 버리는 것을 억제 가능한 실 링을 제공한다. 외주면 측에...</td>\n",
       "      <td>2022</td>\n",
       "      <td>['접', '동부', '이물질', '억제', '실', '링', '외주', '면', ...</td>\n",
       "    </tr>\n",
       "  </tbody>\n",
       "</table>\n",
       "<p>886178 rows × 7 columns</p>\n",
       "</div>"
      ],
      "text/plain": [
       "                   출원번호        출원일자  \\\n",
       "0       10-2015-0062820  2015.05.05   \n",
       "1       10-2015-0045530  2015.03.31   \n",
       "2       10-2015-0003420  2015.01.09   \n",
       "3       10-2014-7020640  2013.01.29   \n",
       "4       10-2014-0180930  2014.12.16   \n",
       "...                 ...         ...   \n",
       "886173  10-2020-7021005  2018.02.13   \n",
       "886174  10-2021-0174947  2021.12.08   \n",
       "886175  10-2020-7019455  2018.12.12   \n",
       "886176  10-2021-0167127  2021.11.29   \n",
       "886177  10-2020-7018975  2019.08.09   \n",
       "\n",
       "                                                   발명의 명칭  \\\n",
       "0       압력가압수단에 의해 원터치 방식으로 망체를 창틀프레임에 고정시키는 방법 및 이를 이...   \n",
       "1       터널 화재진압용 차폐장치(ENCLOSURE APPARATUS FOR FIRE SUP...   \n",
       "2       사다리형 부재 용접장치(Apparatus for Welding Ladder type...   \n",
       "3       이동가능한 재배치층을 이용하여 재배치된 웨이퍼의 제조방법(METHOD FOR MAK...   \n",
       "4                     도로 절단장치(Pavement cutting apparatus)   \n",
       "...                                                   ...   \n",
       "886173  성형면 패스너 및 성형면 패스너의 제조 방법(MOLDED HOOK-AND-LOOP ...   \n",
       "886174  방수 투습 기능성 앞치마(MOISTURE-PERMEABLE MOISTURE-PROO...   \n",
       "886175  핸들 어셈블리 및 이를 포함하는 스테이플러(HANDLE ASSEMBLY AND ST...   \n",
       "886176                    자동 채수기(Automatic water sampler)   \n",
       "886177                                     실 링(SEAL RING)   \n",
       "\n",
       "                                                      출원인  \\\n",
       "0                                  주식회사 에스지텍(대전광역시 중구...)   \n",
       "1                              창전이앤시 주식회사(경기도 용인시 수지구...)   \n",
       "2                                (주)마스타에프에이(광주광역시 광산구...)   \n",
       "3       엘3해리스 테크놀러지스, 인크.(미합중국 플로리다 ***** 멜보른 웨스트 나사 블...   \n",
       "4                                 주식회사 한라기계상사(경기도 광주시...)   \n",
       "...                                                   ...   \n",
       "886173            와이케이케이 가부시끼가이샤(일본 도꾜도 지요다꾸 간다 이즈미쪼 *반지)   \n",
       "886174                                    이성근(경기도 포천시...)   \n",
       "886175  터치스톤 인터내셔널 메디컬 사이언스 씨오., 엘티디.(중국 지앙수 ****** 쑤저...   \n",
       "886176  이정원(경상남도 통영시...)|허세민(경상남도 김해시...)|윤준호(경상남도 창원시...   \n",
       "886177           엔오케이 가부시키가이샤(일본 도쿄도 미나도쿠 시바-다이몬 *-**-**)   \n",
       "\n",
       "                                                       요약  year  \\\n",
       "0       본 발명은 압력가압수단에 의해 편리하게 망체가 결합되는 방범창 및 이를 이용한 망체...  2015   \n",
       "1       본 발명은, 터널의 환기작동을 행할 수 있어 터널의 유지관리를 효과적으로 행할 수 ...  2015   \n",
       "2       본 발명은 사다리형 부재 용접장치에 관한 것이다. 이를 위해, 본 발명은 장축부재와...  2015   \n",
       "3       본 발명은 복수의 전자 디바이스를 갖는 웨이퍼를 제공하는 단계를 포함하는 재배치된 ...  2015   \n",
       "4       본 발명은 도로 절단장치에 관한 것으로, 특히 도로의 절단시 발생하는 분진의 비산을...  2015   \n",
       "...                                                   ...   ...   \n",
       "886173  본 발명의 성형면 패스너는, 기부(11, 81)와, 기부(11, 81)의 상면에 길...  2022   \n",
       "886174  본 발명은 방수 투습 기능성 앞치마에 관한 것으로, 보다 상세하게는 상부 방향으로 ...  2022   \n",
       "886175  본 발명은 핸들 어셈블리 및 이를 포함하는 스테이플러를 제공한다. 상기 핸들 어셈블...  2022   \n",
       "886176  본 발명은 자동 채수기에 관한 것으로, 내부에 유체를 저장하는 유체 저장부가 형성되...  2022   \n",
       "886177  접동부에 이물질이 스며들어 버리는 것을 억제 가능한 실 링을 제공한다. 외주면 측에...  2022   \n",
       "\n",
       "                                                    nouns  \n",
       "0       ['압력', '가압', '수단', '편리', '망체', '결합', '방범', '창'...  \n",
       "1       ['터널', '환기', '작동', '터널', '유지', '관리', '효과', '화재...  \n",
       "2       ['사다리', '용접', '장치', '장축', '단축', '사다리', '형태', '...  \n",
       "3       ['전자', '디바이스', '웨이퍼', '배치', '전자', '디바이스', '제조'...  \n",
       "4       ['도로', '절단', '장치', '도로', '절단', '분진', '산', '방지'...  \n",
       "...                                                   ...  \n",
       "886173  ['성형', '면', '패스', '기부', '기부', '상면', '길', '방향',...  \n",
       "886174  ['방수', '투습', '기능', '앞치마', '상부', '방향', '형성', '목...  \n",
       "886175  ['핸들', '어셈블리', '스테이플러', '핸들', '어셈블리', '핸들', '핸...  \n",
       "886176  ['자동', '채수기', '내부', '유체', '저장', '유체', '장부', '형...  \n",
       "886177  ['접', '동부', '이물질', '억제', '실', '링', '외주', '면', ...  \n",
       "\n",
       "[886178 rows x 7 columns]"
      ]
     },
     "execution_count": 4,
     "metadata": {},
     "output_type": "execute_result"
    }
   ],
   "source": [
    "#데이터 불러오기\n",
    "df=pd.read_excel('특허_명사_수정.xlsx',index_col=0)\n",
    "df"
   ]
  },
  {
   "cell_type": "code",
   "execution_count": 5,
   "id": "3f5e7994",
   "metadata": {},
   "outputs": [
    {
     "data": {
      "text/plain": [
       "2021    148352\n",
       "2020    137737\n",
       "2022    134999\n",
       "2019    121522\n",
       "2018    102851\n",
       "2017     94982\n",
       "2016     79088\n",
       "2015     66647\n",
       "Name: year, dtype: int64"
      ]
     },
     "execution_count": 5,
     "metadata": {},
     "output_type": "execute_result"
    }
   ],
   "source": [
    "#연도별 문서 개수\n",
    "df['year'].value_counts()"
   ]
  },
  {
   "cell_type": "markdown",
   "id": "aa35a75d",
   "metadata": {},
   "source": [
    "## 2015년 주제별 문서 개수"
   ]
  },
  {
   "cell_type": "code",
   "execution_count": 6,
   "id": "36d04c6a",
   "metadata": {},
   "outputs": [],
   "source": [
    "#문서 개수 딕셔너리 생성\n",
    "dic_2015 = {'Topic0':0,'Topic1':0,'Topic2':0,'Topic3':0,'Topic4':0,'Topic5':0,'Topic6':0,'Topic7':0}"
   ]
  },
  {
   "cell_type": "code",
   "execution_count": 7,
   "id": "0dc22977",
   "metadata": {},
   "outputs": [
    {
     "data": {
      "text/plain": [
       "array([    0,     1,     2, ..., 66644, 66645, 66646], dtype=int64)"
      ]
     },
     "execution_count": 7,
     "metadata": {},
     "output_type": "execute_result"
    }
   ],
   "source": [
    "#2015년 문서 인덱스 번호 찾기\n",
    "year_index=np.where(df['year']==2015)\n",
    "year_index[0]"
   ]
  },
  {
   "cell_type": "code",
   "execution_count": 8,
   "id": "89f76531",
   "metadata": {},
   "outputs": [],
   "source": [
    "for i in year_index[0]:\n",
    "    index=np.where(model.doc_topics(i)==max(model.doc_topics(i)))\n",
    "    dic_2015['Topic'+str(index[0][0])]+=1"
   ]
  },
  {
   "cell_type": "code",
   "execution_count": 9,
   "id": "186d0e7c",
   "metadata": {},
   "outputs": [
    {
     "data": {
      "text/plain": [
       "{'Topic0': 12853,\n",
       " 'Topic1': 6410,\n",
       " 'Topic2': 5963,\n",
       " 'Topic3': 12958,\n",
       " 'Topic4': 7750,\n",
       " 'Topic5': 4777,\n",
       " 'Topic6': 8573,\n",
       " 'Topic7': 7363}"
      ]
     },
     "execution_count": 9,
     "metadata": {},
     "output_type": "execute_result"
    }
   ],
   "source": [
    "dic_2015"
   ]
  },
  {
   "cell_type": "code",
   "execution_count": 10,
   "id": "8b0a4a44",
   "metadata": {},
   "outputs": [
    {
     "name": "stdout",
     "output_type": "stream",
     "text": [
      "특허 문서 총 개수: 66647\n",
      "토픽별 문서 총합: 66647\n"
     ]
    }
   ],
   "source": [
    "print(f'특허 문서 총 개수: {len(year_index[0])}')\n",
    "print(f'토픽별 문서 총합: {sum(dic_2015.values())}')"
   ]
  },
  {
   "cell_type": "markdown",
   "id": "398fbd5a",
   "metadata": {},
   "source": [
    "## 2016년 주제별 문서 개수"
   ]
  },
  {
   "cell_type": "code",
   "execution_count": 11,
   "id": "ed80f14b",
   "metadata": {},
   "outputs": [],
   "source": [
    "#문서 개수 딕셔너리 생성\n",
    "dic_2016 = {'Topic0':0,'Topic1':0,'Topic2':0,'Topic3':0,'Topic4':0,'Topic5':0,'Topic6':0,'Topic7':0}"
   ]
  },
  {
   "cell_type": "code",
   "execution_count": 12,
   "id": "da5796d2",
   "metadata": {},
   "outputs": [
    {
     "data": {
      "text/plain": [
       "array([ 66647,  66648,  66649, ..., 145732, 145733, 145734], dtype=int64)"
      ]
     },
     "execution_count": 12,
     "metadata": {},
     "output_type": "execute_result"
    }
   ],
   "source": [
    "#2016년 문서 인덱스 번호 찾기\n",
    "year_index=np.where(df['year']==2016)\n",
    "year_index[0]"
   ]
  },
  {
   "cell_type": "code",
   "execution_count": 13,
   "id": "75b0cbbe",
   "metadata": {},
   "outputs": [],
   "source": [
    "for i in year_index[0]:\n",
    "    index=np.where(model.doc_topics(i)==max(model.doc_topics(i)))\n",
    "    dic_2016['Topic'+str(index[0][0])]+=1"
   ]
  },
  {
   "cell_type": "code",
   "execution_count": 14,
   "id": "fe55e7e1",
   "metadata": {},
   "outputs": [
    {
     "data": {
      "text/plain": [
       "{'Topic0': 15342,\n",
       " 'Topic1': 8292,\n",
       " 'Topic2': 6828,\n",
       " 'Topic3': 14898,\n",
       " 'Topic4': 9103,\n",
       " 'Topic5': 5518,\n",
       " 'Topic6': 10299,\n",
       " 'Topic7': 8808}"
      ]
     },
     "execution_count": 14,
     "metadata": {},
     "output_type": "execute_result"
    }
   ],
   "source": [
    "dic_2016"
   ]
  },
  {
   "cell_type": "code",
   "execution_count": 15,
   "id": "6a640f3d",
   "metadata": {},
   "outputs": [
    {
     "name": "stdout",
     "output_type": "stream",
     "text": [
      "특허 문서 총 개수: 79088\n",
      "토픽별 문서 총합: 79088\n"
     ]
    }
   ],
   "source": [
    "print(f'특허 문서 총 개수: {len(year_index[0])}')\n",
    "print(f'토픽별 문서 총합: {sum(dic_2016.values())}')"
   ]
  },
  {
   "cell_type": "markdown",
   "id": "e7394d18",
   "metadata": {},
   "source": [
    "## 2017년 주제별 문서 개수"
   ]
  },
  {
   "cell_type": "code",
   "execution_count": 16,
   "id": "2e521303",
   "metadata": {},
   "outputs": [],
   "source": [
    "#문서 개수 딕셔너리 생성\n",
    "dic_2017 = {'Topic0':0,'Topic1':0,'Topic2':0,'Topic3':0,'Topic4':0,'Topic5':0,'Topic6':0,'Topic7':0}"
   ]
  },
  {
   "cell_type": "code",
   "execution_count": 17,
   "id": "621e107f",
   "metadata": {},
   "outputs": [
    {
     "data": {
      "text/plain": [
       "array([145735, 145736, 145737, ..., 240714, 240715, 240716], dtype=int64)"
      ]
     },
     "execution_count": 17,
     "metadata": {},
     "output_type": "execute_result"
    }
   ],
   "source": [
    "#2017년 문서 인덱스 번호 찾기\n",
    "year_index=np.where(df['year']==2017)\n",
    "year_index[0]"
   ]
  },
  {
   "cell_type": "code",
   "execution_count": 18,
   "id": "17b57bb7",
   "metadata": {},
   "outputs": [],
   "source": [
    "for i in year_index[0]:\n",
    "    index=np.where(model.doc_topics(i)==max(model.doc_topics(i)))\n",
    "    dic_2017['Topic'+str(index[0][0])]+=1"
   ]
  },
  {
   "cell_type": "code",
   "execution_count": 19,
   "id": "3a2e4558",
   "metadata": {},
   "outputs": [
    {
     "data": {
      "text/plain": [
       "{'Topic0': 20415,\n",
       " 'Topic1': 10025,\n",
       " 'Topic2': 8065,\n",
       " 'Topic3': 17747,\n",
       " 'Topic4': 10681,\n",
       " 'Topic5': 6620,\n",
       " 'Topic6': 11521,\n",
       " 'Topic7': 9908}"
      ]
     },
     "execution_count": 19,
     "metadata": {},
     "output_type": "execute_result"
    }
   ],
   "source": [
    "dic_2017"
   ]
  },
  {
   "cell_type": "code",
   "execution_count": 20,
   "id": "2465b68e",
   "metadata": {},
   "outputs": [
    {
     "name": "stdout",
     "output_type": "stream",
     "text": [
      "특허 문서 총 개수: 94982\n",
      "토픽별 문서 총합: 94982\n"
     ]
    }
   ],
   "source": [
    "print(f'특허 문서 총 개수: {len(year_index[0])}')\n",
    "print(f'토픽별 문서 총합: {sum(dic_2017.values())}')"
   ]
  },
  {
   "cell_type": "markdown",
   "id": "27e82acd",
   "metadata": {},
   "source": [
    "## 2018년 주제별 문서 개수"
   ]
  },
  {
   "cell_type": "code",
   "execution_count": 21,
   "id": "b88906ea",
   "metadata": {},
   "outputs": [],
   "source": [
    "#문서 개수 딕셔너리 생성\n",
    "dic_2018 = {'Topic0':0,'Topic1':0,'Topic2':0,'Topic3':0,'Topic4':0,'Topic5':0,'Topic6':0,'Topic7':0}"
   ]
  },
  {
   "cell_type": "code",
   "execution_count": 22,
   "id": "395bb5f5",
   "metadata": {},
   "outputs": [
    {
     "data": {
      "text/plain": [
       "array([240717, 240718, 240719, ..., 343565, 343566, 343567], dtype=int64)"
      ]
     },
     "execution_count": 22,
     "metadata": {},
     "output_type": "execute_result"
    }
   ],
   "source": [
    "#2018년 문서 인덱스 번호 찾기\n",
    "year_index=np.where(df['year']==2018)\n",
    "year_index[0]"
   ]
  },
  {
   "cell_type": "code",
   "execution_count": 23,
   "id": "23358516",
   "metadata": {},
   "outputs": [],
   "source": [
    "for i in year_index[0]:\n",
    "    index=np.where(model.doc_topics(i)==max(model.doc_topics(i)))\n",
    "    dic_2018['Topic'+str(index[0][0])]+=1"
   ]
  },
  {
   "cell_type": "code",
   "execution_count": 24,
   "id": "52d579d6",
   "metadata": {},
   "outputs": [
    {
     "data": {
      "text/plain": [
       "{'Topic0': 21394,\n",
       " 'Topic1': 10768,\n",
       " 'Topic2': 8761,\n",
       " 'Topic3': 19887,\n",
       " 'Topic4': 12143,\n",
       " 'Topic5': 7068,\n",
       " 'Topic6': 11755,\n",
       " 'Topic7': 11075}"
      ]
     },
     "execution_count": 24,
     "metadata": {},
     "output_type": "execute_result"
    }
   ],
   "source": [
    "dic_2018"
   ]
  },
  {
   "cell_type": "code",
   "execution_count": 25,
   "id": "90e2a4f5",
   "metadata": {},
   "outputs": [
    {
     "name": "stdout",
     "output_type": "stream",
     "text": [
      "특허 문서 총 개수: 102851\n",
      "토픽별 문서 총합: 102851\n"
     ]
    }
   ],
   "source": [
    "print(f'특허 문서 총 개수: {len(year_index[0])}')\n",
    "print(f'토픽별 문서 총합: {sum(dic_2018.values())}')"
   ]
  },
  {
   "cell_type": "markdown",
   "id": "d299ac51",
   "metadata": {},
   "source": [
    "## 2019년 주제별 문서 개수"
   ]
  },
  {
   "cell_type": "code",
   "execution_count": 26,
   "id": "64189e99",
   "metadata": {},
   "outputs": [],
   "source": [
    "#문서 개수 딕셔너리 생성\n",
    "dic_2019 = {'Topic0':0,'Topic1':0,'Topic2':0,'Topic3':0,'Topic4':0,'Topic5':0,'Topic6':0,'Topic7':0}"
   ]
  },
  {
   "cell_type": "code",
   "execution_count": 27,
   "id": "d85f7e3f",
   "metadata": {},
   "outputs": [
    {
     "data": {
      "text/plain": [
       "array([343568, 343569, 343570, ..., 465087, 465088, 465089], dtype=int64)"
      ]
     },
     "execution_count": 27,
     "metadata": {},
     "output_type": "execute_result"
    }
   ],
   "source": [
    "#2019년 문서 인덱스 번호 찾기\n",
    "year_index=np.where(df['year']==2019)\n",
    "year_index[0]"
   ]
  },
  {
   "cell_type": "code",
   "execution_count": 28,
   "id": "2995f4a5",
   "metadata": {},
   "outputs": [],
   "source": [
    "for i in year_index[0]:\n",
    "    index=np.where(model.doc_topics(i)==max(model.doc_topics(i)))\n",
    "    dic_2019['Topic'+str(index[0][0])]+=1"
   ]
  },
  {
   "cell_type": "code",
   "execution_count": 29,
   "id": "92a0ce6f",
   "metadata": {},
   "outputs": [
    {
     "data": {
      "text/plain": [
       "{'Topic0': 23290,\n",
       " 'Topic1': 13280,\n",
       " 'Topic2': 10248,\n",
       " 'Topic3': 22790,\n",
       " 'Topic4': 14869,\n",
       " 'Topic5': 9105,\n",
       " 'Topic6': 14676,\n",
       " 'Topic7': 13264}"
      ]
     },
     "execution_count": 29,
     "metadata": {},
     "output_type": "execute_result"
    }
   ],
   "source": [
    "dic_2019"
   ]
  },
  {
   "cell_type": "code",
   "execution_count": 30,
   "id": "7533519c",
   "metadata": {},
   "outputs": [
    {
     "name": "stdout",
     "output_type": "stream",
     "text": [
      "특허 문서 총 개수: 121522\n",
      "토픽별 문서 총합: 121522\n"
     ]
    }
   ],
   "source": [
    "print(f'특허 문서 총 개수: {len(year_index[0])}')\n",
    "print(f'토픽별 문서 총합: {sum(dic_2019.values())}')"
   ]
  },
  {
   "cell_type": "markdown",
   "id": "8b73d33d",
   "metadata": {},
   "source": [
    "## 2020년 주제별 문서 개수"
   ]
  },
  {
   "cell_type": "code",
   "execution_count": 31,
   "id": "20734f80",
   "metadata": {},
   "outputs": [],
   "source": [
    "#문서 개수 딕셔너리 생성\n",
    "dic_2020 = {'Topic0':0,'Topic1':0,'Topic2':0,'Topic3':0,'Topic4':0,'Topic5':0,'Topic6':0,'Topic7':0}"
   ]
  },
  {
   "cell_type": "code",
   "execution_count": 32,
   "id": "e8b2e415",
   "metadata": {},
   "outputs": [
    {
     "data": {
      "text/plain": [
       "array([465090, 465091, 465092, ..., 602824, 602825, 602826], dtype=int64)"
      ]
     },
     "execution_count": 32,
     "metadata": {},
     "output_type": "execute_result"
    }
   ],
   "source": [
    "#2020년 문서 인덱스 번호 찾기\n",
    "year_index=np.where(df['year']==2020)\n",
    "year_index[0]"
   ]
  },
  {
   "cell_type": "code",
   "execution_count": 33,
   "id": "5c61c83d",
   "metadata": {},
   "outputs": [],
   "source": [
    "for i in year_index[0]:\n",
    "    index=np.where(model.doc_topics(i)==max(model.doc_topics(i)))\n",
    "    dic_2020['Topic'+str(index[0][0])]+=1"
   ]
  },
  {
   "cell_type": "code",
   "execution_count": 34,
   "id": "5787026c",
   "metadata": {},
   "outputs": [
    {
     "data": {
      "text/plain": [
       "{'Topic0': 25903,\n",
       " 'Topic1': 15924,\n",
       " 'Topic2': 11109,\n",
       " 'Topic3': 26064,\n",
       " 'Topic4': 16436,\n",
       " 'Topic5': 10255,\n",
       " 'Topic6': 17497,\n",
       " 'Topic7': 14549}"
      ]
     },
     "execution_count": 34,
     "metadata": {},
     "output_type": "execute_result"
    }
   ],
   "source": [
    "dic_2020"
   ]
  },
  {
   "cell_type": "code",
   "execution_count": 35,
   "id": "5fc5afc5",
   "metadata": {},
   "outputs": [
    {
     "name": "stdout",
     "output_type": "stream",
     "text": [
      "특허 문서 총 개수: 137737\n",
      "토픽별 문서 총합: 137737\n"
     ]
    }
   ],
   "source": [
    "print(f'특허 문서 총 개수: {len(year_index[0])}')\n",
    "print(f'토픽별 문서 총합: {sum(dic_2020.values())}')"
   ]
  },
  {
   "cell_type": "markdown",
   "id": "b6454fdd",
   "metadata": {},
   "source": [
    "## 2021년 주제별 문서 개수"
   ]
  },
  {
   "cell_type": "code",
   "execution_count": 36,
   "id": "ed45dc36",
   "metadata": {},
   "outputs": [],
   "source": [
    "#문서 개수 딕셔너리 생성\n",
    "dic_2021 = {'Topic0':0,'Topic1':0,'Topic2':0,'Topic3':0,'Topic4':0,'Topic5':0,'Topic6':0,'Topic7':0}"
   ]
  },
  {
   "cell_type": "code",
   "execution_count": 37,
   "id": "d455cad9",
   "metadata": {},
   "outputs": [
    {
     "data": {
      "text/plain": [
       "array([602827, 602828, 602829, ..., 751176, 751177, 751178], dtype=int64)"
      ]
     },
     "execution_count": 37,
     "metadata": {},
     "output_type": "execute_result"
    }
   ],
   "source": [
    "#2021년 문서 인덱스 번호 찾기\n",
    "year_index=np.where(df['year']==2021)\n",
    "year_index[0]"
   ]
  },
  {
   "cell_type": "code",
   "execution_count": 38,
   "id": "02bce4c9",
   "metadata": {},
   "outputs": [],
   "source": [
    "for i in year_index[0]:\n",
    "    index=np.where(model.doc_topics(i)==max(model.doc_topics(i)))\n",
    "    dic_2021['Topic'+str(index[0][0])]+=1"
   ]
  },
  {
   "cell_type": "code",
   "execution_count": 39,
   "id": "a6333ae7",
   "metadata": {},
   "outputs": [
    {
     "data": {
      "text/plain": [
       "{'Topic0': 28000,\n",
       " 'Topic1': 18366,\n",
       " 'Topic2': 11164,\n",
       " 'Topic3': 26296,\n",
       " 'Topic4': 17600,\n",
       " 'Topic5': 11238,\n",
       " 'Topic6': 20093,\n",
       " 'Topic7': 15595}"
      ]
     },
     "execution_count": 39,
     "metadata": {},
     "output_type": "execute_result"
    }
   ],
   "source": [
    "dic_2021"
   ]
  },
  {
   "cell_type": "code",
   "execution_count": 40,
   "id": "247c41c8",
   "metadata": {},
   "outputs": [
    {
     "name": "stdout",
     "output_type": "stream",
     "text": [
      "특허 문서 총 개수: 148352\n",
      "토픽별 문서 총합: 148352\n"
     ]
    }
   ],
   "source": [
    "print(f'특허 문서 총 개수: {len(year_index[0])}')\n",
    "print(f'토픽별 문서 총합: {sum(dic_2021.values())}')"
   ]
  },
  {
   "cell_type": "markdown",
   "id": "56a00113",
   "metadata": {},
   "source": [
    "## 2022년 주제별 문서 개수"
   ]
  },
  {
   "cell_type": "code",
   "execution_count": 41,
   "id": "ea820628",
   "metadata": {},
   "outputs": [],
   "source": [
    "#문서 개수 딕셔너리 생성\n",
    "dic_2022 = {'Topic0':0,'Topic1':0,'Topic2':0,'Topic3':0,'Topic4':0,'Topic5':0,'Topic6':0,'Topic7':0}"
   ]
  },
  {
   "cell_type": "code",
   "execution_count": 42,
   "id": "88ca8f7f",
   "metadata": {},
   "outputs": [
    {
     "data": {
      "text/plain": [
       "array([751179, 751180, 751181, ..., 886175, 886176, 886177], dtype=int64)"
      ]
     },
     "execution_count": 42,
     "metadata": {},
     "output_type": "execute_result"
    }
   ],
   "source": [
    "#2022년 문서 인덱스 번호 찾기\n",
    "year_index=np.where(df['year']==2022)\n",
    "year_index[0]"
   ]
  },
  {
   "cell_type": "code",
   "execution_count": 43,
   "id": "464fd5cd",
   "metadata": {},
   "outputs": [],
   "source": [
    "for i in year_index[0]:\n",
    "    index=np.where(model.doc_topics(i)==max(model.doc_topics(i)))\n",
    "    dic_2022['Topic'+str(index[0][0])]+=1"
   ]
  },
  {
   "cell_type": "code",
   "execution_count": 44,
   "id": "0937e90e",
   "metadata": {},
   "outputs": [
    {
     "data": {
      "text/plain": [
       "{'Topic0': 24381,\n",
       " 'Topic1': 17136,\n",
       " 'Topic2': 10422,\n",
       " 'Topic3': 22767,\n",
       " 'Topic4': 16902,\n",
       " 'Topic5': 10710,\n",
       " 'Topic6': 18877,\n",
       " 'Topic7': 13804}"
      ]
     },
     "execution_count": 44,
     "metadata": {},
     "output_type": "execute_result"
    }
   ],
   "source": [
    "dic_2022"
   ]
  },
  {
   "cell_type": "code",
   "execution_count": 45,
   "id": "961480dc",
   "metadata": {},
   "outputs": [
    {
     "name": "stdout",
     "output_type": "stream",
     "text": [
      "특허 문서 총 개수: 134999\n",
      "토픽별 문서 총합: 134999\n"
     ]
    }
   ],
   "source": [
    "print(f'특허 문서 총 개수: {len(year_index[0])}')\n",
    "print(f'토픽별 문서 총합: {sum(dic_2022.values())}')"
   ]
  },
  {
   "cell_type": "markdown",
   "id": "c11a9ccf",
   "metadata": {},
   "source": [
    "## 주제별 문서 통합 개수"
   ]
  },
  {
   "cell_type": "code",
   "execution_count": 46,
   "id": "69e5b78c",
   "metadata": {},
   "outputs": [],
   "source": [
    "#통합 문서 개수 딕셔너리 생성\n",
    "dic_sum={'Topic0':0,'Topic1':0,'Topic2':0,'Topic3':0,'Topic4':0,'Topic5':0,'Topic6':0,'Topic7':0}"
   ]
  },
  {
   "cell_type": "code",
   "execution_count": 49,
   "id": "9d68bb62",
   "metadata": {},
   "outputs": [],
   "source": [
    "#연도별 문서수 통합\n",
    "for i in range(0,8):\n",
    "    dic_sum['Topic'+str(i)]+=dic_2015['Topic'+str(i)]\n",
    "    dic_sum['Topic'+str(i)]+=dic_2016['Topic'+str(i)]\n",
    "    dic_sum['Topic'+str(i)]+=dic_2017['Topic'+str(i)]\n",
    "    dic_sum['Topic'+str(i)]+=dic_2018['Topic'+str(i)]\n",
    "    dic_sum['Topic'+str(i)]+=dic_2019['Topic'+str(i)]\n",
    "    dic_sum['Topic'+str(i)]+=dic_2020['Topic'+str(i)]\n",
    "    dic_sum['Topic'+str(i)]+=dic_2021['Topic'+str(i)]\n",
    "    dic_sum['Topic'+str(i)]+=dic_2022['Topic'+str(i)]"
   ]
  },
  {
   "cell_type": "code",
   "execution_count": 50,
   "id": "245f5793",
   "metadata": {},
   "outputs": [
    {
     "data": {
      "text/plain": [
       "{'Topic0': 171578,\n",
       " 'Topic1': 100201,\n",
       " 'Topic2': 72560,\n",
       " 'Topic3': 163407,\n",
       " 'Topic4': 105484,\n",
       " 'Topic5': 65291,\n",
       " 'Topic6': 113291,\n",
       " 'Topic7': 94366}"
      ]
     },
     "execution_count": 50,
     "metadata": {},
     "output_type": "execute_result"
    }
   ],
   "source": [
    "dic_sum"
   ]
  },
  {
   "cell_type": "code",
   "execution_count": 53,
   "id": "1dfa7578",
   "metadata": {},
   "outputs": [
    {
     "name": "stdout",
     "output_type": "stream",
     "text": [
      "특허 문서 총 개수: 886178\n",
      "토픽별 문서 총합: 886178\n"
     ]
    }
   ],
   "source": [
    "print(f'특허 문서 총 개수: {len(df[\"year\"])}')\n",
    "print(f'토픽별 문서 총합: {sum(dic_sum.values())}')"
   ]
  },
  {
   "cell_type": "markdown",
   "id": "6a60cf28",
   "metadata": {},
   "source": [
    "## 데이터 프레임"
   ]
  },
  {
   "cell_type": "markdown",
   "id": "c7f4bfed",
   "metadata": {},
   "source": [
    "### 연도별 문서 수 데이터 프레임"
   ]
  },
  {
   "cell_type": "code",
   "execution_count": 158,
   "id": "d3e4bc02",
   "metadata": {},
   "outputs": [
    {
     "data": {
      "text/html": [
       "<div>\n",
       "<style scoped>\n",
       "    .dataframe tbody tr th:only-of-type {\n",
       "        vertical-align: middle;\n",
       "    }\n",
       "\n",
       "    .dataframe tbody tr th {\n",
       "        vertical-align: top;\n",
       "    }\n",
       "\n",
       "    .dataframe thead th {\n",
       "        text-align: right;\n",
       "    }\n",
       "</style>\n",
       "<table border=\"1\" class=\"dataframe\">\n",
       "  <thead>\n",
       "    <tr style=\"text-align: right;\">\n",
       "      <th></th>\n",
       "      <th>2015</th>\n",
       "    </tr>\n",
       "  </thead>\n",
       "  <tbody>\n",
       "    <tr>\n",
       "      <th>Topic0</th>\n",
       "      <td>12853</td>\n",
       "    </tr>\n",
       "    <tr>\n",
       "      <th>Topic1</th>\n",
       "      <td>6410</td>\n",
       "    </tr>\n",
       "    <tr>\n",
       "      <th>Topic2</th>\n",
       "      <td>5963</td>\n",
       "    </tr>\n",
       "    <tr>\n",
       "      <th>Topic3</th>\n",
       "      <td>12958</td>\n",
       "    </tr>\n",
       "    <tr>\n",
       "      <th>Topic4</th>\n",
       "      <td>7750</td>\n",
       "    </tr>\n",
       "    <tr>\n",
       "      <th>Topic5</th>\n",
       "      <td>4777</td>\n",
       "    </tr>\n",
       "    <tr>\n",
       "      <th>Topic6</th>\n",
       "      <td>8573</td>\n",
       "    </tr>\n",
       "    <tr>\n",
       "      <th>Topic7</th>\n",
       "      <td>7363</td>\n",
       "    </tr>\n",
       "  </tbody>\n",
       "</table>\n",
       "</div>"
      ],
      "text/plain": [
       "         2015\n",
       "Topic0  12853\n",
       "Topic1   6410\n",
       "Topic2   5963\n",
       "Topic3  12958\n",
       "Topic4   7750\n",
       "Topic5   4777\n",
       "Topic6   8573\n",
       "Topic7   7363"
      ]
     },
     "execution_count": 158,
     "metadata": {},
     "output_type": "execute_result"
    }
   ],
   "source": [
    "#데이터 프레임 생성 후 2015년 데이터 추가\n",
    "df_cnt=pd.DataFrame.from_dict(dic_2015,orient='index',columns=[2015])\n",
    "df_cnt"
   ]
  },
  {
   "cell_type": "code",
   "execution_count": 159,
   "id": "e45c0937",
   "metadata": {},
   "outputs": [],
   "source": [
    "#연도별 문서수 행 추가\n",
    "df_cnt['2016']=dic_2016.values()\n",
    "df_cnt['2017']=dic_2017.values()\n",
    "df_cnt['2018']=dic_2018.values()\n",
    "df_cnt['2019']=dic_2019.values()\n",
    "df_cnt['2020']=dic_2020.values()\n",
    "df_cnt['2021']=dic_2021.values()\n",
    "df_cnt['2022']=dic_2022.values()"
   ]
  },
  {
   "cell_type": "code",
   "execution_count": 160,
   "id": "2f2a2c74",
   "metadata": {},
   "outputs": [],
   "source": [
    "#행/열 변환 후 연도 컬럼 추가\n",
    "df_cnt=df_cnt.transpose()\n",
    "df_cnt.index.name='year'\n",
    "df_cnt.reset_index(inplace=True)"
   ]
  },
  {
   "cell_type": "code",
   "execution_count": 161,
   "id": "b99c87fd",
   "metadata": {},
   "outputs": [],
   "source": [
    "#연도별 문서 총 개수 컬럼 생성\n",
    "total=list(df['year'].value_counts(sort=False))\n",
    "df_cnt['sum']=total"
   ]
  },
  {
   "cell_type": "code",
   "execution_count": 162,
   "id": "21e8c233",
   "metadata": {},
   "outputs": [
    {
     "data": {
      "text/html": [
       "<div>\n",
       "<style scoped>\n",
       "    .dataframe tbody tr th:only-of-type {\n",
       "        vertical-align: middle;\n",
       "    }\n",
       "\n",
       "    .dataframe tbody tr th {\n",
       "        vertical-align: top;\n",
       "    }\n",
       "\n",
       "    .dataframe thead th {\n",
       "        text-align: right;\n",
       "    }\n",
       "</style>\n",
       "<table border=\"1\" class=\"dataframe\">\n",
       "  <thead>\n",
       "    <tr style=\"text-align: right;\">\n",
       "      <th></th>\n",
       "      <th>year</th>\n",
       "      <th>Topic0</th>\n",
       "      <th>Topic1</th>\n",
       "      <th>Topic2</th>\n",
       "      <th>Topic3</th>\n",
       "      <th>Topic4</th>\n",
       "      <th>Topic5</th>\n",
       "      <th>Topic6</th>\n",
       "      <th>Topic7</th>\n",
       "      <th>sum</th>\n",
       "    </tr>\n",
       "  </thead>\n",
       "  <tbody>\n",
       "    <tr>\n",
       "      <th>0</th>\n",
       "      <td>2015</td>\n",
       "      <td>12853</td>\n",
       "      <td>6410</td>\n",
       "      <td>5963</td>\n",
       "      <td>12958</td>\n",
       "      <td>7750</td>\n",
       "      <td>4777</td>\n",
       "      <td>8573</td>\n",
       "      <td>7363</td>\n",
       "      <td>66647</td>\n",
       "    </tr>\n",
       "    <tr>\n",
       "      <th>1</th>\n",
       "      <td>2016</td>\n",
       "      <td>15342</td>\n",
       "      <td>8292</td>\n",
       "      <td>6828</td>\n",
       "      <td>14898</td>\n",
       "      <td>9103</td>\n",
       "      <td>5518</td>\n",
       "      <td>10299</td>\n",
       "      <td>8808</td>\n",
       "      <td>79088</td>\n",
       "    </tr>\n",
       "    <tr>\n",
       "      <th>2</th>\n",
       "      <td>2017</td>\n",
       "      <td>20415</td>\n",
       "      <td>10025</td>\n",
       "      <td>8065</td>\n",
       "      <td>17747</td>\n",
       "      <td>10681</td>\n",
       "      <td>6620</td>\n",
       "      <td>11521</td>\n",
       "      <td>9908</td>\n",
       "      <td>94982</td>\n",
       "    </tr>\n",
       "    <tr>\n",
       "      <th>3</th>\n",
       "      <td>2018</td>\n",
       "      <td>21394</td>\n",
       "      <td>10768</td>\n",
       "      <td>8761</td>\n",
       "      <td>19887</td>\n",
       "      <td>12143</td>\n",
       "      <td>7068</td>\n",
       "      <td>11755</td>\n",
       "      <td>11075</td>\n",
       "      <td>102851</td>\n",
       "    </tr>\n",
       "    <tr>\n",
       "      <th>4</th>\n",
       "      <td>2019</td>\n",
       "      <td>23290</td>\n",
       "      <td>13280</td>\n",
       "      <td>10248</td>\n",
       "      <td>22790</td>\n",
       "      <td>14869</td>\n",
       "      <td>9105</td>\n",
       "      <td>14676</td>\n",
       "      <td>13264</td>\n",
       "      <td>121522</td>\n",
       "    </tr>\n",
       "    <tr>\n",
       "      <th>5</th>\n",
       "      <td>2020</td>\n",
       "      <td>25903</td>\n",
       "      <td>15924</td>\n",
       "      <td>11109</td>\n",
       "      <td>26064</td>\n",
       "      <td>16436</td>\n",
       "      <td>10255</td>\n",
       "      <td>17497</td>\n",
       "      <td>14549</td>\n",
       "      <td>137737</td>\n",
       "    </tr>\n",
       "    <tr>\n",
       "      <th>6</th>\n",
       "      <td>2021</td>\n",
       "      <td>28000</td>\n",
       "      <td>18366</td>\n",
       "      <td>11164</td>\n",
       "      <td>26296</td>\n",
       "      <td>17600</td>\n",
       "      <td>11238</td>\n",
       "      <td>20093</td>\n",
       "      <td>15595</td>\n",
       "      <td>148352</td>\n",
       "    </tr>\n",
       "    <tr>\n",
       "      <th>7</th>\n",
       "      <td>2022</td>\n",
       "      <td>24381</td>\n",
       "      <td>17136</td>\n",
       "      <td>10422</td>\n",
       "      <td>22767</td>\n",
       "      <td>16902</td>\n",
       "      <td>10710</td>\n",
       "      <td>18877</td>\n",
       "      <td>13804</td>\n",
       "      <td>134999</td>\n",
       "    </tr>\n",
       "  </tbody>\n",
       "</table>\n",
       "</div>"
      ],
      "text/plain": [
       "   year  Topic0  Topic1  Topic2  Topic3  Topic4  Topic5  Topic6  Topic7  \\\n",
       "0  2015   12853    6410    5963   12958    7750    4777    8573    7363   \n",
       "1  2016   15342    8292    6828   14898    9103    5518   10299    8808   \n",
       "2  2017   20415   10025    8065   17747   10681    6620   11521    9908   \n",
       "3  2018   21394   10768    8761   19887   12143    7068   11755   11075   \n",
       "4  2019   23290   13280   10248   22790   14869    9105   14676   13264   \n",
       "5  2020   25903   15924   11109   26064   16436   10255   17497   14549   \n",
       "6  2021   28000   18366   11164   26296   17600   11238   20093   15595   \n",
       "7  2022   24381   17136   10422   22767   16902   10710   18877   13804   \n",
       "\n",
       "      sum  \n",
       "0   66647  \n",
       "1   79088  \n",
       "2   94982  \n",
       "3  102851  \n",
       "4  121522  \n",
       "5  137737  \n",
       "6  148352  \n",
       "7  134999  "
      ]
     },
     "execution_count": 162,
     "metadata": {},
     "output_type": "execute_result"
    }
   ],
   "source": [
    "df_cnt"
   ]
  },
  {
   "cell_type": "code",
   "execution_count": 150,
   "id": "f07ea321",
   "metadata": {},
   "outputs": [],
   "source": [
    "#파일 저장\n",
    "df_cnt.to_excel('특허문서수.xlsx')"
   ]
  },
  {
   "cell_type": "markdown",
   "id": "6701d485",
   "metadata": {},
   "source": [
    "### 연도별 특허 문서 비율 데이터 프레임"
   ]
  },
  {
   "cell_type": "code",
   "execution_count": 202,
   "id": "4efb09fb",
   "metadata": {},
   "outputs": [
    {
     "data": {
      "text/html": [
       "<div>\n",
       "<style scoped>\n",
       "    .dataframe tbody tr th:only-of-type {\n",
       "        vertical-align: middle;\n",
       "    }\n",
       "\n",
       "    .dataframe tbody tr th {\n",
       "        vertical-align: top;\n",
       "    }\n",
       "\n",
       "    .dataframe thead th {\n",
       "        text-align: right;\n",
       "    }\n",
       "</style>\n",
       "<table border=\"1\" class=\"dataframe\">\n",
       "  <thead>\n",
       "    <tr style=\"text-align: right;\">\n",
       "      <th></th>\n",
       "      <th>Topic0</th>\n",
       "      <th>Topic1</th>\n",
       "      <th>Topic2</th>\n",
       "      <th>Topic3</th>\n",
       "      <th>Topic4</th>\n",
       "      <th>Topic5</th>\n",
       "      <th>Topic6</th>\n",
       "      <th>Topic7</th>\n",
       "    </tr>\n",
       "  </thead>\n",
       "  <tbody>\n",
       "    <tr>\n",
       "      <th>0</th>\n",
       "      <td>0.192852</td>\n",
       "      <td>0.096178</td>\n",
       "      <td>0.089471</td>\n",
       "      <td>0.194427</td>\n",
       "      <td>0.116284</td>\n",
       "      <td>0.071676</td>\n",
       "      <td>0.128633</td>\n",
       "      <td>0.110478</td>\n",
       "    </tr>\n",
       "    <tr>\n",
       "      <th>1</th>\n",
       "      <td>0.193986</td>\n",
       "      <td>0.104845</td>\n",
       "      <td>0.086334</td>\n",
       "      <td>0.188372</td>\n",
       "      <td>0.115100</td>\n",
       "      <td>0.069770</td>\n",
       "      <td>0.130222</td>\n",
       "      <td>0.111370</td>\n",
       "    </tr>\n",
       "    <tr>\n",
       "      <th>2</th>\n",
       "      <td>0.214935</td>\n",
       "      <td>0.105546</td>\n",
       "      <td>0.084911</td>\n",
       "      <td>0.186846</td>\n",
       "      <td>0.112453</td>\n",
       "      <td>0.069697</td>\n",
       "      <td>0.121297</td>\n",
       "      <td>0.104315</td>\n",
       "    </tr>\n",
       "    <tr>\n",
       "      <th>3</th>\n",
       "      <td>0.208010</td>\n",
       "      <td>0.104695</td>\n",
       "      <td>0.085181</td>\n",
       "      <td>0.193357</td>\n",
       "      <td>0.118064</td>\n",
       "      <td>0.068721</td>\n",
       "      <td>0.114292</td>\n",
       "      <td>0.107680</td>\n",
       "    </tr>\n",
       "    <tr>\n",
       "      <th>4</th>\n",
       "      <td>0.191653</td>\n",
       "      <td>0.109281</td>\n",
       "      <td>0.084330</td>\n",
       "      <td>0.187538</td>\n",
       "      <td>0.122356</td>\n",
       "      <td>0.074925</td>\n",
       "      <td>0.120768</td>\n",
       "      <td>0.109149</td>\n",
       "    </tr>\n",
       "    <tr>\n",
       "      <th>5</th>\n",
       "      <td>0.188061</td>\n",
       "      <td>0.115612</td>\n",
       "      <td>0.080654</td>\n",
       "      <td>0.189230</td>\n",
       "      <td>0.119329</td>\n",
       "      <td>0.074453</td>\n",
       "      <td>0.127032</td>\n",
       "      <td>0.105629</td>\n",
       "    </tr>\n",
       "    <tr>\n",
       "      <th>6</th>\n",
       "      <td>0.188740</td>\n",
       "      <td>0.123800</td>\n",
       "      <td>0.075253</td>\n",
       "      <td>0.177254</td>\n",
       "      <td>0.118637</td>\n",
       "      <td>0.075752</td>\n",
       "      <td>0.135441</td>\n",
       "      <td>0.105122</td>\n",
       "    </tr>\n",
       "    <tr>\n",
       "      <th>7</th>\n",
       "      <td>0.180601</td>\n",
       "      <td>0.126934</td>\n",
       "      <td>0.077201</td>\n",
       "      <td>0.168646</td>\n",
       "      <td>0.125201</td>\n",
       "      <td>0.079334</td>\n",
       "      <td>0.139831</td>\n",
       "      <td>0.102253</td>\n",
       "    </tr>\n",
       "  </tbody>\n",
       "</table>\n",
       "</div>"
      ],
      "text/plain": [
       "     Topic0    Topic1    Topic2    Topic3    Topic4    Topic5    Topic6  \\\n",
       "0  0.192852  0.096178  0.089471  0.194427  0.116284  0.071676  0.128633   \n",
       "1  0.193986  0.104845  0.086334  0.188372  0.115100  0.069770  0.130222   \n",
       "2  0.214935  0.105546  0.084911  0.186846  0.112453  0.069697  0.121297   \n",
       "3  0.208010  0.104695  0.085181  0.193357  0.118064  0.068721  0.114292   \n",
       "4  0.191653  0.109281  0.084330  0.187538  0.122356  0.074925  0.120768   \n",
       "5  0.188061  0.115612  0.080654  0.189230  0.119329  0.074453  0.127032   \n",
       "6  0.188740  0.123800  0.075253  0.177254  0.118637  0.075752  0.135441   \n",
       "7  0.180601  0.126934  0.077201  0.168646  0.125201  0.079334  0.139831   \n",
       "\n",
       "     Topic7  \n",
       "0  0.110478  \n",
       "1  0.111370  \n",
       "2  0.104315  \n",
       "3  0.107680  \n",
       "4  0.109149  \n",
       "5  0.105629  \n",
       "6  0.105122  \n",
       "7  0.102253  "
      ]
     },
     "execution_count": 202,
     "metadata": {},
     "output_type": "execute_result"
    }
   ],
   "source": [
    "#특허 문서 비율 계산\n",
    "topic_list=['Topic0','Topic1','Topic2','Topic3','Topic4','Topic5','Topic6','Topic7']\n",
    "df_rate=pd.DataFrame()\n",
    "for topic in topic_list:\n",
    "    df_rate[topic]=df_cnt[topic]/df_cnt['sum']\n",
    "df_rate"
   ]
  },
  {
   "cell_type": "code",
   "execution_count": 203,
   "id": "0c018042",
   "metadata": {},
   "outputs": [],
   "source": [
    "#연도 컬럼 추가\n",
    "df_rate.index=[2015,2016,2017,2018,2019,2020,2021,2022]\n",
    "df_rate.index.name='year'\n",
    "df_rate.reset_index(inplace=True)"
   ]
  },
  {
   "cell_type": "code",
   "execution_count": 204,
   "id": "3d15b767",
   "metadata": {},
   "outputs": [
    {
     "data": {
      "text/plain": [
       "[0.9999999999999999,\n",
       " 0.9999999999999999,\n",
       " 1.0,\n",
       " 1.0000000000000002,\n",
       " 1.0,\n",
       " 1.0,\n",
       " 1.0,\n",
       " 0.9999999999999999]"
      ]
     },
     "execution_count": 204,
     "metadata": {},
     "output_type": "execute_result"
    }
   ],
   "source": [
    "#비율 총합 계산\n",
    "total_rate=[]\n",
    "for i in range(8):\n",
    "    rate_sum=0\n",
    "    for rate in list(df_rate.iloc[i,1:]):\n",
    "        rate_sum+=rate\n",
    "    total_rate.append(rate_sum)\n",
    "total_rate"
   ]
  },
  {
   "cell_type": "code",
   "execution_count": 205,
   "id": "2e3d8034",
   "metadata": {},
   "outputs": [
    {
     "data": {
      "text/html": [
       "<div>\n",
       "<style scoped>\n",
       "    .dataframe tbody tr th:only-of-type {\n",
       "        vertical-align: middle;\n",
       "    }\n",
       "\n",
       "    .dataframe tbody tr th {\n",
       "        vertical-align: top;\n",
       "    }\n",
       "\n",
       "    .dataframe thead th {\n",
       "        text-align: right;\n",
       "    }\n",
       "</style>\n",
       "<table border=\"1\" class=\"dataframe\">\n",
       "  <thead>\n",
       "    <tr style=\"text-align: right;\">\n",
       "      <th></th>\n",
       "      <th>year</th>\n",
       "      <th>Topic0</th>\n",
       "      <th>Topic1</th>\n",
       "      <th>Topic2</th>\n",
       "      <th>Topic3</th>\n",
       "      <th>Topic4</th>\n",
       "      <th>Topic5</th>\n",
       "      <th>Topic6</th>\n",
       "      <th>Topic7</th>\n",
       "      <th>total_rate</th>\n",
       "    </tr>\n",
       "  </thead>\n",
       "  <tbody>\n",
       "    <tr>\n",
       "      <th>0</th>\n",
       "      <td>2015</td>\n",
       "      <td>0.192852</td>\n",
       "      <td>0.096178</td>\n",
       "      <td>0.089471</td>\n",
       "      <td>0.194427</td>\n",
       "      <td>0.116284</td>\n",
       "      <td>0.071676</td>\n",
       "      <td>0.128633</td>\n",
       "      <td>0.110478</td>\n",
       "      <td>1.0</td>\n",
       "    </tr>\n",
       "    <tr>\n",
       "      <th>1</th>\n",
       "      <td>2016</td>\n",
       "      <td>0.193986</td>\n",
       "      <td>0.104845</td>\n",
       "      <td>0.086334</td>\n",
       "      <td>0.188372</td>\n",
       "      <td>0.115100</td>\n",
       "      <td>0.069770</td>\n",
       "      <td>0.130222</td>\n",
       "      <td>0.111370</td>\n",
       "      <td>1.0</td>\n",
       "    </tr>\n",
       "    <tr>\n",
       "      <th>2</th>\n",
       "      <td>2017</td>\n",
       "      <td>0.214935</td>\n",
       "      <td>0.105546</td>\n",
       "      <td>0.084911</td>\n",
       "      <td>0.186846</td>\n",
       "      <td>0.112453</td>\n",
       "      <td>0.069697</td>\n",
       "      <td>0.121297</td>\n",
       "      <td>0.104315</td>\n",
       "      <td>1.0</td>\n",
       "    </tr>\n",
       "    <tr>\n",
       "      <th>3</th>\n",
       "      <td>2018</td>\n",
       "      <td>0.208010</td>\n",
       "      <td>0.104695</td>\n",
       "      <td>0.085181</td>\n",
       "      <td>0.193357</td>\n",
       "      <td>0.118064</td>\n",
       "      <td>0.068721</td>\n",
       "      <td>0.114292</td>\n",
       "      <td>0.107680</td>\n",
       "      <td>1.0</td>\n",
       "    </tr>\n",
       "    <tr>\n",
       "      <th>4</th>\n",
       "      <td>2019</td>\n",
       "      <td>0.191653</td>\n",
       "      <td>0.109281</td>\n",
       "      <td>0.084330</td>\n",
       "      <td>0.187538</td>\n",
       "      <td>0.122356</td>\n",
       "      <td>0.074925</td>\n",
       "      <td>0.120768</td>\n",
       "      <td>0.109149</td>\n",
       "      <td>1.0</td>\n",
       "    </tr>\n",
       "    <tr>\n",
       "      <th>5</th>\n",
       "      <td>2020</td>\n",
       "      <td>0.188061</td>\n",
       "      <td>0.115612</td>\n",
       "      <td>0.080654</td>\n",
       "      <td>0.189230</td>\n",
       "      <td>0.119329</td>\n",
       "      <td>0.074453</td>\n",
       "      <td>0.127032</td>\n",
       "      <td>0.105629</td>\n",
       "      <td>1.0</td>\n",
       "    </tr>\n",
       "    <tr>\n",
       "      <th>6</th>\n",
       "      <td>2021</td>\n",
       "      <td>0.188740</td>\n",
       "      <td>0.123800</td>\n",
       "      <td>0.075253</td>\n",
       "      <td>0.177254</td>\n",
       "      <td>0.118637</td>\n",
       "      <td>0.075752</td>\n",
       "      <td>0.135441</td>\n",
       "      <td>0.105122</td>\n",
       "      <td>1.0</td>\n",
       "    </tr>\n",
       "    <tr>\n",
       "      <th>7</th>\n",
       "      <td>2022</td>\n",
       "      <td>0.180601</td>\n",
       "      <td>0.126934</td>\n",
       "      <td>0.077201</td>\n",
       "      <td>0.168646</td>\n",
       "      <td>0.125201</td>\n",
       "      <td>0.079334</td>\n",
       "      <td>0.139831</td>\n",
       "      <td>0.102253</td>\n",
       "      <td>1.0</td>\n",
       "    </tr>\n",
       "  </tbody>\n",
       "</table>\n",
       "</div>"
      ],
      "text/plain": [
       "   year    Topic0    Topic1    Topic2    Topic3    Topic4    Topic5    Topic6  \\\n",
       "0  2015  0.192852  0.096178  0.089471  0.194427  0.116284  0.071676  0.128633   \n",
       "1  2016  0.193986  0.104845  0.086334  0.188372  0.115100  0.069770  0.130222   \n",
       "2  2017  0.214935  0.105546  0.084911  0.186846  0.112453  0.069697  0.121297   \n",
       "3  2018  0.208010  0.104695  0.085181  0.193357  0.118064  0.068721  0.114292   \n",
       "4  2019  0.191653  0.109281  0.084330  0.187538  0.122356  0.074925  0.120768   \n",
       "5  2020  0.188061  0.115612  0.080654  0.189230  0.119329  0.074453  0.127032   \n",
       "6  2021  0.188740  0.123800  0.075253  0.177254  0.118637  0.075752  0.135441   \n",
       "7  2022  0.180601  0.126934  0.077201  0.168646  0.125201  0.079334  0.139831   \n",
       "\n",
       "     Topic7  total_rate  \n",
       "0  0.110478         1.0  \n",
       "1  0.111370         1.0  \n",
       "2  0.104315         1.0  \n",
       "3  0.107680         1.0  \n",
       "4  0.109149         1.0  \n",
       "5  0.105629         1.0  \n",
       "6  0.105122         1.0  \n",
       "7  0.102253         1.0  "
      ]
     },
     "execution_count": 205,
     "metadata": {},
     "output_type": "execute_result"
    }
   ],
   "source": [
    "#비율 총합 행 추가\n",
    "df_rate['total_rate']=total_rate\n",
    "df_rate"
   ]
  },
  {
   "cell_type": "code",
   "execution_count": 206,
   "id": "c9c1bdc3",
   "metadata": {},
   "outputs": [],
   "source": [
    "#파일 저장\n",
    "df_rate.to_excel('특허문서비율.xlsx')"
   ]
  },
  {
   "cell_type": "markdown",
   "id": "d50a7bfe",
   "metadata": {},
   "source": [
    "## 시각화"
   ]
  },
  {
   "cell_type": "code",
   "execution_count": 209,
   "id": "2fa19871",
   "metadata": {},
   "outputs": [],
   "source": [
    "#빈도수 시각화 함수\n",
    "def count_graph(topic):\n",
    "    color_list=['C0','C1','C2','C3','C4','C5','C6','C7']\n",
    "    plt.figure(figsize=(10,5))\n",
    "    for i in range(len(topic)):\n",
    "        sns.lineplot(data=df_cnt,x='year',y=topic[i],color=color_list[i])\n",
    "    plt.xticks(fontsize=12)\n",
    "    plt.yticks(fontsize=12)\n",
    "    plt.xlabel('Year', fontsize=16)\n",
    "    plt.ylabel('Count', fontsize=16)\n",
    "    plt.legend(topic,loc='center left', bbox_to_anchor=(1, 0.7),fontsize=14)\n",
    "    plt.show()"
   ]
  },
  {
   "cell_type": "code",
   "execution_count": 210,
   "id": "9360108d",
   "metadata": {},
   "outputs": [
    {
     "data": {
      "image/png": "[encoded data removed]",
      "text/plain": [
       "<Figure size 720x360 with 1 Axes>"
      ]
     },
     "metadata": {
      "needs_background": "light"
     },
     "output_type": "display_data"
    }
   ],
   "source": [
    "topic_list=['Topic0','Topic1','Topic2','Topic3','Topic4','Topic5','Topic6','Topic7']\n",
    "count_graph(topic_list)"
   ]
  },
  {
   "cell_type": "code",
   "execution_count": 211,
   "id": "a9d05032",
   "metadata": {},
   "outputs": [],
   "source": [
    "#구성 비율 시각화 함수\n",
    "def rate_graph(topic):\n",
    "    color_list=['C0','C1','C2','C3','C4','C5','C6','C7']\n",
    "    plt.figure(figsize=(10,5))\n",
    "    for i in range(len(topic)):\n",
    "        sns.lineplot(data=df_rate,x='year',y=topic[i],color=color_list[i])\n",
    "    plt.xticks(fontsize=12)\n",
    "    plt.yticks(fontsize=12)\n",
    "    plt.xlabel('Year', fontsize=16)\n",
    "    plt.ylabel('Rate', fontsize=16)\n",
    "    plt.legend(topic,loc='center left', bbox_to_anchor=(1, 0.7),fontsize=14)\n",
    "    plt.show()"
   ]
  },
  {
   "cell_type": "code",
   "execution_count": 212,
   "id": "3af98caa",
   "metadata": {},
   "outputs": [
    {
     "data": {
      "image/png": "[encoded data removed]",
      "text/plain": [
       "<Figure size 720x360 with 1 Axes>"
      ]
     },
     "metadata": {
      "needs_background": "light"
     },
     "output_type": "display_data"
    }
   ],
   "source": [
    "rate_graph(topic_list)"
   ]
  }
 ],
 "metadata": {
  "kernelspec": {
   "display_name": "Python 3 (ipykernel)",
   "language": "python",
   "name": "python3"
  },
  "language_info": {
   "codemirror_mode": {
    "name": "ipython",
    "version": 3
   },
   "file_extension": ".py",
   "mimetype": "text/x-python",
   "name": "python",
   "nbconvert_exporter": "python",
   "pygments_lexer": "ipython3",
   "version": "3.9.7"
  }
 },
 "nbformat": 4,
 "nbformat_minor": 5
}
